{
 "cells": [
  {
   "cell_type": "code",
   "execution_count": 2,
   "id": "05900dde",
   "metadata": {},
   "outputs": [],
   "source": [
    "import numpy as np \n",
    "import pandas as pd\n",
    "\n"
   ]
  },
  {
   "cell_type": "code",
   "execution_count": 22,
   "id": "adb5caf9",
   "metadata": {},
   "outputs": [
    {
     "name": "stdout",
     "output_type": "stream",
     "text": [
      "<class 'pandas.core.frame.DataFrame'>\n",
      "RangeIndex: 3 entries, 0 to 2\n",
      "Data columns (total 2 columns):\n",
      " #   Column  Non-Null Count  Dtype         \n",
      "---  ------  --------------  -----         \n",
      " 0   date    3 non-null      datetime64[ns]\n",
      " 1   value   3 non-null      int64         \n",
      "dtypes: datetime64[ns](1), int64(1)\n",
      "memory usage: 180.0 bytes\n"
     ]
    },
    {
     "data": {
      "text/plain": [
       "Index(['Sunday', 'Monday', 'Tuesday', 'Wednesday', 'Thursday', 'Friday',\n",
       "       'Saturday', 'Sunday'],\n",
       "      dtype='object')"
      ]
     },
     "execution_count": 22,
     "metadata": {},
     "output_type": "execute_result"
    }
   ],
   "source": [
    "# timestamp\n",
    "pd.Timestamp('2025 6 4 12')\n",
    "\n",
    "#datetimeindex\n",
    "pd.DatetimeIndex([pd.Timestamp('2025 6 4 12'),pd.Timestamp('2025 6 4 12'),pd.Timestamp('2025 6 4 12')])\n",
    "\n",
    "s = pd.Series(['2025/6/4','2025/6/4','2025/6/4'])\n",
    "pd.to_datetime(s).dt.day\n",
    "\n",
    "df = pd.DataFrame({\n",
    "    'date':['2025/5/2','2025/6/4','2025/6/5'],\n",
    "    'value':[1,2,3]\n",
    "})\n",
    "df[\"date\"]= pd.to_datetime(df[\"date\"])\n",
    "df.info()\n",
    "\n",
    "pd.date_range(start=\"2025/6/1\",end='2025/6/8',freq='d').day_name()"
   ]
  },
  {
   "cell_type": "markdown",
   "id": "b8590229",
   "metadata": {},
   "source": [
    "timedelta\n",
    "\n",
    "In pandas, timedelta refers to a duration or difference between two dates or times. It is represented by the Timedelta class, which is used to handle time-based operations like adding or subtracting time intervals from dates, calculating differences between timestamps, or aggregating time-based data."
   ]
  },
  {
   "cell_type": "code",
   "execution_count": null,
   "id": "f4a417f2",
   "metadata": {},
   "outputs": [
    {
     "data": {
      "text/plain": [
       "Timestamp('2025-06-09 10:00:00')"
      ]
     },
     "execution_count": 30,
     "metadata": {},
     "output_type": "execute_result"
    }
   ],
   "source": [
    "# timedelta\n",
    "date1= pd.Timestamp(\"2025/6/4\")\n",
    "date1 + pd.Timedelta(\"5 Days 10 hours\")\n",
    "\n"
   ]
  },
  {
   "cell_type": "code",
   "execution_count": 31,
   "id": "f14476e2",
   "metadata": {},
   "outputs": [
    {
     "name": "stdout",
     "output_type": "stream",
     "text": [
      "       dates  new_dates\n",
      "0 2023-01-01 2023-01-03\n",
      "1 2023-01-02 2023-01-04\n"
     ]
    }
   ],
   "source": [
    "#Adding to a Series\n",
    "df = pd.DataFrame({'dates': pd.to_datetime(['2023-01-01', '2023-01-02'])})\n",
    "df['new_dates'] = df['dates'] + pd.Timedelta(days=2)\n",
    "print(df)"
   ]
  },
  {
   "cell_type": "code",
   "execution_count": 32,
   "id": "31a0505b",
   "metadata": {},
   "outputs": [
    {
     "data": {
      "text/plain": [
       "Timedelta('28 days 00:00:00')"
      ]
     },
     "execution_count": 32,
     "metadata": {},
     "output_type": "execute_result"
    }
   ],
   "source": [
    "#Subtracting two Timestamp objects results in a Timedelta.\n",
    "d1=pd.Timestamp('2024/5/6')\n",
    "d2= pd.Timestamp('2024/4/8')\n",
    "d1-d2"
   ]
  },
  {
   "cell_type": "code",
   "execution_count": 35,
   "id": "59b3d55c",
   "metadata": {},
   "outputs": [
    {
     "data": {
      "text/plain": [
       "Components(days=10, hours=13, minutes=5, seconds=33, milliseconds=0, microseconds=0, nanoseconds=0)"
      ]
     },
     "execution_count": 35,
     "metadata": {},
     "output_type": "execute_result"
    }
   ],
   "source": [
    "# Extract components like days, hours, or seconds using attributes.\n",
    "t2= pd.Timedelta(days=10,hours=13,seconds=333)\n",
    "t2.days\n",
    "t2.seconds\n",
    "t2.components"
   ]
  },
  {
   "cell_type": "markdown",
   "id": "ca51c957",
   "metadata": {},
   "source": [
    "Methods:\n",
    "pd.Timedelta(): Create a timedelta.\n",
    "Series.dt: Access timedelta properties in a Series (e.g., Series.dt.days)"
   ]
  },
  {
   "cell_type": "code",
   "execution_count": 36,
   "id": "e6dc9d38",
   "metadata": {},
   "outputs": [
    {
     "name": "stdout",
     "output_type": "stream",
     "text": [
      "2023-01-01     100\n",
      "2023-01-08     980\n",
      "2023-01-15    1230\n",
      "Freq: W-SUN, dtype: int64\n"
     ]
    }
   ],
   "source": [
    "# resampling\n",
    "import pandas as pd\n",
    "\n",
    "# Create a time series with daily sales\n",
    "dates = pd.date_range(start='2023-01-01', end='2023-01-14', freq='D')\n",
    "sales = [100, 120, 110, 130, 140, 150, 160, 170, 180, 190, 200, 210, 220, 230]\n",
    "ts = pd.Series(sales, index=dates)\n",
    "\n",
    "# Downsample to weekly, summing the sales\n",
    "weekly_sales = ts.resample('W').sum()\n",
    "\n",
    "print(weekly_sales)\n",
    "# Output:\n",
    "# 2023-01-01    100    # Only 1 day (Jan 1)\n",
    "# 2023-01-08    910    # Sum of Jan 2-8 (120 + 110 + 130 + 140 + 150 + 160 + 170)\n",
    "# 2023-01-15    860    # Sum of Jan 9-14 (180 + 190 + 200 + 210 + 220 + 230)\n",
    "# Freq: W-SUN, dtype: int64"
   ]
  },
  {
   "cell_type": "markdown",
   "id": "1eb99d50",
   "metadata": {},
   "source": [
    "Explanation:\n",
    "\n",
    "We had daily sales (e.g., 100, 120, etc.).\n",
    "We used .resample('W') to group the data into weeks (by default, weeks end on Sunday).\n",
    "We used .sum() to add up all sales within each week.\n",
    "The result shows total sales for each week."
   ]
  },
  {
   "cell_type": "code",
   "execution_count": null,
   "id": "5db483d8",
   "metadata": {},
   "outputs": [],
   "source": [
    "# upsampling\n",
    "# Create daily data\n",
    "dates = pd.date_range(start='2023-01-01', end='2023-01-03', freq='D')\n",
    "values = [100, 200, 300]\n",
    "ts = pd.Series(values, index=dates)\n",
    "\n",
    "# Upsample to hourly, filling with forward fill\n",
    "hourly_ts = ts.resample('H').ffill()\n",
    "\n",
    "print(hourly_ts.head(5))\n",
    "# Output:\n",
    "# 2023-01-01 00:00:00    100\n",
    "# 2023-01-01 01:00:00    100\n",
    "# 2023-01-01 02:00:00    100\n",
    "# 2023-01-01 03:00:00    100\n",
    "# 2023-01-01 04:00:00    100\n",
    "# Freq: H, dtype: int64"
   ]
  },
  {
   "cell_type": "markdown",
   "id": "4382bc1b",
   "metadata": {},
   "source": [
    "Explanation:\n",
    "\n",
    "We had data for each day (100 on Jan 1, 200 on Jan 2, etc.).\n",
    "We used .resample('H') to create hourly intervals.\n",
    "We used .ffill() (forward fill) to copy the daily value to all hours until the next day.\n",
    "The result has hourly data, with each day’s value repeated for all 24 hours."
   ]
  },
  {
   "cell_type": "code",
   "execution_count": null,
   "id": "9361f6f7",
   "metadata": {},
   "outputs": [],
   "source": [
    "# interpolaton\n",
    "# Same daily data\n",
    "ts = pd.Series([100, 200, 300], index=pd.date_range('2023-01-01', '2023-01-03', freq='D'))\n",
    "\n",
    "# Upsample to hourly, using linear interpolation\n",
    "hourly_ts = ts.resample('H').interpolate()\n",
    "\n",
    "print(hourly_ts.head(5))\n",
    "# Output:\n",
    "# 2023-01-01 00:00:00    100.000000\n",
    "# 2023-01-01 01:00:00    104.166667\n",
    "# 2023-01-01 02:00:00    108.333333\n",
    "# 2023-01-01 03:00:00    112.500000\n",
    "# 2023-01-01 04:00:00    116.666667\n",
    "# Freq: H, dtype: float64"
   ]
  },
  {
   "cell_type": "markdown",
   "id": "865e15d9",
   "metadata": {},
   "source": [
    "Explanation:\n",
    "\n",
    "We used .interpolate() instead of .ffill().\n",
    "Pandas calculates values between 100 (Jan 1) and 200 (Jan 2) by linearly interpolating, creating a smooth transition.\n",
    "For example, 4 hours after 100, the value is 116.67 (gradual increase)."
   ]
  },
  {
   "cell_type": "markdown",
   "id": "cb7f7b0e",
   "metadata": {},
   "source": [
    "Shifting\n",
    "Shifting moves data up or down along an axis (typically rows) by a specified number of periods, without altering the index. It's useful for comparing values with previous or future ones (e.g., calculating differences between consecutive rows).\n",
    "\n",
    "Syntax: Series/DataFrame.shift(periods=1, axis=0, fill_value=None)\n",
    "periods: Number of places to shift (positive for down, negative for up).\n",
    "fill_value: Value to fill in the gaps created by shifting."
   ]
  },
  {
   "cell_type": "code",
   "execution_count": null,
   "id": "46fad7ab",
   "metadata": {},
   "outputs": [],
   "source": [
    "# shifting\n",
    "\n",
    "import pandas as pd\n",
    "\n",
    "# Create a Series\n",
    "data = pd.Series([10, 20, 30, 40])\n",
    "print(\"Original Series:\")\n",
    "print(data)\n",
    "\n",
    "# Shift down by 1\n",
    "shifted = data.shift(1)\n",
    "print(\"\\nShifted Series (down by 1):\")\n",
    "print(shifted)"
   ]
  },
  {
   "cell_type": "markdown",
   "id": "0bee1934",
   "metadata": {},
   "source": [
    "\n",
    " Rolling\n",
    "Rolling applies a moving window over the data to perform calculations (e.g., mean, sum) over a specified number of periods. It's useful for smoothing data or calculating metrics like moving averages"
   ]
  },
  {
   "cell_type": "code",
   "execution_count": 3,
   "id": "e286c49d",
   "metadata": {},
   "outputs": [
    {
     "name": "stdout",
     "output_type": "stream",
     "text": [
      "Original Series:\n",
      "0    1\n",
      "1    2\n",
      "2    3\n",
      "3    4\n",
      "4    5\n",
      "dtype: int64\n",
      "\n",
      "Rolling Mean (window=3):\n",
      "0    NaN\n",
      "1    NaN\n",
      "2    2.0\n",
      "3    3.0\n",
      "4    4.0\n",
      "dtype: float64\n"
     ]
    }
   ],
   "source": [
    "# Create a Series\n",
    "data = pd.Series([1, 2, 3, 4, 5])\n",
    "print(\"Original Series:\")\n",
    "print(data)\n",
    "\n",
    "# Calculate rolling mean with window size 3\n",
    "rolling_mean = data.rolling(window=3).mean()\n",
    "print(\"\\nRolling Mean (window=3):\")\n",
    "print(rolling_mean)"
   ]
  },
  {
   "cell_type": "markdown",
   "id": "c5f1bc95",
   "metadata": {},
   "source": []
  }
 ],
 "metadata": {
  "kernelspec": {
   "display_name": "Python 3",
   "language": "python",
   "name": "python3"
  },
  "language_info": {
   "codemirror_mode": {
    "name": "ipython",
    "version": 3
   },
   "file_extension": ".py",
   "mimetype": "text/x-python",
   "name": "python",
   "nbconvert_exporter": "python",
   "pygments_lexer": "ipython3",
   "version": "3.11.9"
  }
 },
 "nbformat": 4,
 "nbformat_minor": 5
}
