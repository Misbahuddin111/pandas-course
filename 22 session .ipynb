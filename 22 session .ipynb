{
 "cells": [
  {
   "cell_type": "code",
   "execution_count": 11,
   "id": "197acf2a",
   "metadata": {},
   "outputs": [],
   "source": [
    "import numpy as np\n",
    "import pandas as pd"
   ]
  },
  {
   "cell_type": "code",
   "execution_count": 12,
   "id": "682da707",
   "metadata": {},
   "outputs": [
    {
     "data": {
      "text/plain": [
       "pandas._libs.tslibs.timestamps.Timestamp"
      ]
     },
     "execution_count": 12,
     "metadata": {},
     "output_type": "execute_result"
    }
   ],
   "source": [
    "# create timestamp\n",
    "pd.Timestamp('2025/5/13')\n",
    "type(pd.Timestamp(\"2025/8/19\"))"
   ]
  },
  {
   "cell_type": "code",
   "execution_count": 6,
   "id": "5244c86a",
   "metadata": {},
   "outputs": [
    {
     "data": {
      "text/plain": [
       "Timestamp('2025-06-25 00:00:00')"
      ]
     },
     "execution_count": 6,
     "metadata": {},
     "output_type": "execute_result"
    }
   ],
   "source": [
    "# write in words also like\n",
    "pd.Timestamp(\"2025-june-25\")"
   ]
  },
  {
   "cell_type": "code",
   "execution_count": null,
   "id": "084e162a",
   "metadata": {},
   "outputs": [],
   "source": []
  },
  {
   "cell_type": "code",
   "execution_count": 13,
   "id": "c29aae01",
   "metadata": {},
   "outputs": [
    {
     "data": {
      "text/plain": [
       "Timestamp('2025-06-18 10:30:00')"
      ]
     },
     "execution_count": 13,
     "metadata": {},
     "output_type": "execute_result"
    }
   ],
   "source": [
    "# add time \n",
    "pd.Timestamp('2025/june/18 10:30am')"
   ]
  },
  {
   "cell_type": "code",
   "execution_count": 18,
   "id": "a35618c8",
   "metadata": {},
   "outputs": [
    {
     "name": "stdout",
     "output_type": "stream",
     "text": [
      "2015-07-04\n"
     ]
    }
   ],
   "source": [
    "# using dateTime\n",
    "import numpy as np\n",
    "\n",
    "\n",
    "\n",
    "date = np.array('2015-07-04', dtype=np.datetime64)\n",
    "print(date)"
   ]
  },
  {
   "cell_type": "code",
   "execution_count": 19,
   "id": "46013029",
   "metadata": {},
   "outputs": [
    {
     "data": {
      "text/plain": [
       "array(['2015-07-04', '2015-07-05', '2015-07-06', '2015-07-07',\n",
       "       '2015-07-08', '2015-07-09', '2015-07-10', '2015-07-11',\n",
       "       '2015-07-12', '2015-07-13', '2015-07-14', '2015-07-15',\n",
       "       '2015-07-16', '2015-07-17'], dtype='datetime64[D]')"
      ]
     },
     "execution_count": 19,
     "metadata": {},
     "output_type": "execute_result"
    }
   ],
   "source": [
    "date + np.arange(14)"
   ]
  },
  {
   "cell_type": "code",
   "execution_count": 21,
   "id": "08869fd1",
   "metadata": {},
   "outputs": [
    {
     "data": {
      "text/plain": [
       "pandas.core.indexes.datetimes.DatetimeIndex"
      ]
     },
     "execution_count": 21,
     "metadata": {},
     "output_type": "execute_result"
    }
   ],
   "source": [
    "# A collection of pandas timestamp\n",
    "\n",
    "type(pd.DatetimeIndex(['2023-2-2','2025-6-9']))"
   ]
  },
  {
   "cell_type": "code",
   "execution_count": 25,
   "id": "d78d5194",
   "metadata": {},
   "outputs": [
    {
     "data": {
      "text/plain": [
       "pandas.core.indexes.datetimes.DatetimeIndex"
      ]
     },
     "execution_count": 25,
     "metadata": {},
     "output_type": "execute_result"
    }
   ],
   "source": [
    "# using python datetime object\n",
    "import datetime as dt\n",
    "idx = pd.DatetimeIndex([dt.datetime(2013,3,3),dt.datetime(2013,4,3),dt.datetime(2013,6,3)])\n",
    "type(idx)"
   ]
  },
  {
   "cell_type": "code",
   "execution_count": 27,
   "id": "5fcc120b",
   "metadata": {},
   "outputs": [
    {
     "data": {
      "text/plain": [
       "2013-03-03    1\n",
       "2013-04-03    2\n",
       "2013-06-03    3\n",
       "dtype: int64"
      ]
     },
     "execution_count": 27,
     "metadata": {},
     "output_type": "execute_result"
    }
   ],
   "source": [
    "# use datetimeindex as index\n",
    "pd.Series([1,2,3],index=idx)"
   ]
  },
  {
   "cell_type": "markdown",
   "id": "037945c5",
   "metadata": {},
   "source": [
    "'S': Second\n",
    "'min': Minute\n",
    "'H': Hourly\n",
    "'D': Daily\n",
    "'B': Business day\n",
    "'W': Weekly (e.g., 'W-SUN' for Sunday)\n",
    "'M': Month-end\n",
    "'MS': Month-start\n",
    "'Q': Quarter-end\n",
    "'QS': Quarter-start\n",
    "'Y': Year-end\n",
    "'YS': Year-start"
   ]
  },
  {
   "cell_type": "code",
   "execution_count": 33,
   "id": "bd7532d0",
   "metadata": {},
   "outputs": [
    {
     "data": {
      "text/plain": [
       "DatetimeIndex(['2020-05-25', '2020-06-01', '2020-06-08', '2020-06-15',\n",
       "               '2020-06-22'],\n",
       "              dtype='datetime64[ns]', freq='W-MON')"
      ]
     },
     "execution_count": 33,
     "metadata": {},
     "output_type": "execute_result"
    }
   ],
   "source": [
    "# date_range function\n",
    "pd.date_range(start='25-5-2020',end='25-6-2020',freq=\"W-mon\")"
   ]
  },
  {
   "cell_type": "code",
   "execution_count": 43,
   "id": "233aa0d7",
   "metadata": {},
   "outputs": [
    {
     "data": {
      "text/plain": [
       "0     Tuesday\n",
       "1    Thursday\n",
       "2     Tuesday\n",
       "dtype: object"
      ]
     },
     "execution_count": 43,
     "metadata": {},
     "output_type": "execute_result"
    }
   ],
   "source": [
    "# to_datetime function\n",
    "\n",
    "date = pd.Series(['2002-6-4','2020-3-5','2020-6-2'])\n",
    "pd.to_datetime(date).dt.day_name()"
   ]
  },
  {
   "cell_type": "code",
   "execution_count": 56,
   "id": "54c5fe96",
   "metadata": {},
   "outputs": [
    {
     "data": {
      "text/html": [
       "<div>\n",
       "<style scoped>\n",
       "    .dataframe tbody tr th:only-of-type {\n",
       "        vertical-align: middle;\n",
       "    }\n",
       "\n",
       "    .dataframe tbody tr th {\n",
       "        vertical-align: top;\n",
       "    }\n",
       "\n",
       "    .dataframe thead th {\n",
       "        text-align: right;\n",
       "    }\n",
       "</style>\n",
       "<table border=\"1\" class=\"dataframe\">\n",
       "  <thead>\n",
       "    <tr style=\"text-align: right;\">\n",
       "      <th></th>\n",
       "      <th>Date</th>\n",
       "      <th>value</th>\n",
       "      <th>year</th>\n",
       "    </tr>\n",
       "  </thead>\n",
       "  <tbody>\n",
       "    <tr>\n",
       "      <th>0</th>\n",
       "      <td>2012-12-06</td>\n",
       "      <td>10</td>\n",
       "      <td>2012</td>\n",
       "    </tr>\n",
       "    <tr>\n",
       "      <th>1</th>\n",
       "      <td>2019-12-08</td>\n",
       "      <td>20</td>\n",
       "      <td>2019</td>\n",
       "    </tr>\n",
       "    <tr>\n",
       "      <th>2</th>\n",
       "      <td>2020-12-06</td>\n",
       "      <td>30</td>\n",
       "      <td>2020</td>\n",
       "    </tr>\n",
       "  </tbody>\n",
       "</table>\n",
       "</div>"
      ],
      "text/plain": [
       "        Date  value  year\n",
       "0 2012-12-06     10  2012\n",
       "1 2019-12-08     20  2019\n",
       "2 2020-12-06     30  2020"
      ]
     },
     "execution_count": 56,
     "metadata": {},
     "output_type": "execute_result"
    }
   ],
   "source": [
    "from datetime import datetime\n",
    "data = {\n",
    "    \"Date\": [\"12-06-2012\",\"12-08-2019\",\"12-06-2020\"],\n",
    "    \"value\":[10,20,30]\n",
    "}\n",
    "df = pd.DataFrame(data)\n",
    "df[\"Date\"] = pd.to_datetime(df[\"Date\"])\n",
    "df[\"year\"] = df[\"Date\"].dt.year\n",
    "df"
   ]
  },
  {
   "cell_type": "markdown",
   "id": "ea6fc314",
   "metadata": {},
   "source": [
    "5. Additional Notes\n",
    "Performance: Pandas is optimized for large datasets, while datetime is better for single operations.\n",
    "Time Zones: Use pytz with datetime or pandas for robust time zone handling.\n",
    "Missing Data: Pandas handles missing dates (NaT) seamlessly in time series.\n",
    "External Libraries: For advanced time series analysis, consider libraries like statsmodels or prophet."
   ]
  },
  {
   "cell_type": "code",
   "execution_count": null,
   "id": "103c0636",
   "metadata": {},
   "outputs": [],
   "source": []
  }
 ],
 "metadata": {
  "kernelspec": {
   "display_name": "Python 3",
   "language": "python",
   "name": "python3"
  },
  "language_info": {
   "codemirror_mode": {
    "name": "ipython",
    "version": 3
   },
   "file_extension": ".py",
   "mimetype": "text/x-python",
   "name": "python",
   "nbconvert_exporter": "python",
   "pygments_lexer": "ipython3",
   "version": "3.11.9"
  }
 },
 "nbformat": 4,
 "nbformat_minor": 5
}
